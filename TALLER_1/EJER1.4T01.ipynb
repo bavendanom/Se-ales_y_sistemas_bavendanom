{
  "nbformat": 4,
  "nbformat_minor": 0,
  "metadata": {
    "colab": {
      "provenance": [],
      "authorship_tag": "ABX9TyOGiwJds1CvG+wRXVhtVLxL",
      "include_colab_link": true
    },
    "kernelspec": {
      "name": "python3",
      "display_name": "Python 3"
    },
    "language_info": {
      "name": "python"
    }
  },
  "cells": [
    {
      "cell_type": "markdown",
      "metadata": {
        "id": "view-in-github",
        "colab_type": "text"
      },
      "source": [
        "<a href=\"https://colab.research.google.com/github/bavendanom/Se-ales_y_sistemas_bavendanom/blob/se%C3%B1ales-y-sistemas/TALLER_1/EJER1.4T01.ipynb\" target=\"_parent\"><img src=\"https://colab.research.google.com/assets/colab-badge.svg\" alt=\"Open In Colab\"/></a>"
      ]
    },
    {
      "cell_type": "markdown",
      "source": [
        "## Ejercicio 1.4"
      ],
      "metadata": {
        "id": "k5EKkO3cy6H6"
      }
    },
    {
      "cell_type": "code",
      "execution_count": 18,
      "metadata": {
        "colab": {
          "base_uri": "https://localhost:8080/",
          "height": 38
        },
        "id": "SK_WjpYry2cY",
        "outputId": "9bcce916-881b-44a0-e010-39a48962579d"
      },
      "outputs": [
        {
          "output_type": "execute_result",
          "data": {
            "text/plain": [
              "δ(2⋅t - 5⋅π)"
            ],
            "image/png": "[encoded data removed]",
            "text/latex": "$\\displaystyle \\delta\\left(2 t - 5 \\pi\\right)$"
          },
          "metadata": {},
          "execution_count": 18
        }
      ],
      "source": [
        "%matplotlib inline \n",
        "# para graficar en el entorno\n",
        "import sympy as sym #importa la librería sympy\n",
        "sym.init_printing()\n",
        "\n",
        "\n",
        "#x(t)=t^4 * e^(-cos(t)) * cos(-2t)\n",
        "#definir tau\n",
        "\n",
        "t, sigma, omega = sym.symbols('t sigma omega', real=True)\n",
        "\n",
        "tau = sym.symbols('tau', real=True)\n",
        "x = t**4 * sym.exp(-sym.cos(t)) * sym.cos((-2)*t)\n",
        "delta = sym.DiracDelta(2*t - 5*sym.pi)\n",
        "delta"
      ]
    },
    {
      "cell_type": "code",
      "source": [
        "x"
      ],
      "metadata": {
        "colab": {
          "base_uri": "https://localhost:8080/",
          "height": 39
        },
        "id": "9RYxUs5T2gEY",
        "outputId": "b4be78b5-3dab-4983-e7c3-eca3d2fce0d7"
      },
      "execution_count": 16,
      "outputs": [
        {
          "output_type": "execute_result",
          "data": {
            "text/plain": [
              " 4  -cos(t)         \n",
              "t ⋅ℯ       ⋅cos(2⋅t)"
            ],
            "image/png": "[encoded data removed]",
            "text/latex": "$\\displaystyle t^{4} e^{- \\cos{\\left(t \\right)}} \\cos{\\left(2 t \\right)}$"
          },
          "metadata": {},
          "execution_count": 16
        }
      ]
    },
    {
      "cell_type": "code",
      "source": [
        "sym.integrate(delta * x , (t, -sym.oo, sym.oo))"
      ],
      "metadata": {
        "colab": {
          "base_uri": "https://localhost:8080/",
          "height": 54
        },
        "id": "MbWIJWla4I8G",
        "outputId": "c7c148d3-a60c-4d86-ed9b-2849c47ef0b2"
      },
      "execution_count": 19,
      "outputs": [
        {
          "output_type": "execute_result",
          "data": {
            "text/plain": [
              "      4 \n",
              "-625⋅π  \n",
              "────────\n",
              "   32   "
            ],
            "image/png": "[encoded data removed]",
            "text/latex": "$\\displaystyle - \\frac{625 \\pi^{4}}{32}$"
          },
          "metadata": {},
          "execution_count": 19
        }
      ]
    }
  ]
}